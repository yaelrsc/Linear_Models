{
 "cells": [
  {
   "cell_type": "code",
   "execution_count": 1,
   "id": "236f8d94-3e1a-4ab6-b605-e41c017c3230",
   "metadata": {},
   "outputs": [],
   "source": [
    "import numpy as np\n",
    "import matplotlib.pyplot as plt\n",
    "import pandas as pd\n",
    "%matplotlib inline"
   ]
  },
  {
   "cell_type": "code",
   "execution_count": null,
   "id": "401a7364-6daa-484a-9abb-3efa464df6d0",
   "metadata": {},
   "outputs": [],
   "source": [
    "class Binary_MLP():\n",
    "    \n",
    "    def __init__(self):\n",
    "        \n",
    "        self.layers = [{'n_inputs':None,'n_outputs':1}]\n",
    "    \n",
    "    def add_layer(self,n_outputs=2):\n",
    "        \n",
    "        self.layers.insert(0,{'n_inputs':None,'n_outputs':2})\n",
    "    \n",
    "        \n",
    "        \n",
    "    "
   ]
  },
  {
   "cell_type": "code",
   "execution_count": 7,
   "id": "2babe240-3c75-43ea-856a-941879df1a3a",
   "metadata": {},
   "outputs": [],
   "source": [
    "a = [{'a':1}]\n",
    "\n"
   ]
  },
  {
   "cell_type": "code",
   "execution_count": 17,
   "id": "435d0bef-9fa3-4f6d-90b6-d9f527b4b07f",
   "metadata": {},
   "outputs": [],
   "source": [
    "a.insert(0,1)"
   ]
  },
  {
   "cell_type": "code",
   "execution_count": 21,
   "id": "cbce7060-f977-4e41-a3ea-9b8781d69c0f",
   "metadata": {},
   "outputs": [
    {
     "data": {
      "text/plain": [
       "3"
      ]
     },
     "execution_count": 21,
     "metadata": {},
     "output_type": "execute_result"
    }
   ],
   "source": [
    "a[-2]"
   ]
  },
  {
   "cell_type": "code",
   "execution_count": 20,
   "id": "0c6ba98f-2c35-407e-ab80-b1d66a16d42a",
   "metadata": {},
   "outputs": [
    {
     "data": {
      "text/plain": [
       "[1, 2, 2, 3, {'a': 1}]"
      ]
     },
     "execution_count": 20,
     "metadata": {},
     "output_type": "execute_result"
    }
   ],
   "source": [
    "a"
   ]
  },
  {
   "cell_type": "code",
   "execution_count": null,
   "id": "b7f83b23-962a-4661-95ed-3ccb1365c6a3",
   "metadata": {},
   "outputs": [],
   "source": []
  }
 ],
 "metadata": {
  "kernelspec": {
   "display_name": "Python 3 (ipykernel)",
   "language": "python",
   "name": "python3"
  },
  "language_info": {
   "codemirror_mode": {
    "name": "ipython",
    "version": 3
   },
   "file_extension": ".py",
   "mimetype": "text/x-python",
   "name": "python",
   "nbconvert_exporter": "python",
   "pygments_lexer": "ipython3",
   "version": "3.9.13"
  }
 },
 "nbformat": 4,
 "nbformat_minor": 5
}
